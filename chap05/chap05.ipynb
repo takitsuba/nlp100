{
 "cells": [
  {
   "cell_type": "markdown",
   "id": "ce05b231-1dd7-42a6-a77d-cfa5bbeebafd",
   "metadata": {},
   "source": [
    "# 事前処理"
   ]
  },
  {
   "cell_type": "markdown",
   "id": "88a8378b-b842-4f67-982b-6c127ff1cbc7",
   "metadata": {},
   "source": [
    "jumanとknpをインストールした後に下記でparse後のファイルを作成した"
   ]
  },
  {
   "cell_type": "markdown",
   "id": "5c97315c-0b84-457f-8d1c-a211b6dbd178",
   "metadata": {},
   "source": [
    "```\n",
    "while read line\n",
    "do\n",
    "  echo $line | jumanpp | knp -tab >> ./ai.ja/ai.ja.parsed\n",
    "done < /ai.ja/ai.ja.txt\n",
    "```"
   ]
  },
  {
   "cell_type": "code",
   "execution_count": 33,
   "id": "907d56ed-9b01-4238-906b-a788ddce4a4f",
   "metadata": {},
   "outputs": [],
   "source": [
    "with open(\"../ai.ja/ai.ja.parsed\") as f:\n",
    "    texts = f.read()"
   ]
  },
  {
   "cell_type": "markdown",
   "id": "352fa981-4d73-4a51-bb22-85b25df8a45a",
   "metadata": {},
   "source": [
    "# 40. 係り受け解析結果の読み込み（形態素）"
   ]
  },
  {
   "cell_type": "code",
   "execution_count": 17,
   "id": "e1e8417f-be00-4eba-8b2e-633500312a64",
   "metadata": {},
   "outputs": [],
   "source": [
    "from pydantic import BaseModel\n",
    "\n",
    "class Morph(BaseModel):\n",
    "    surface: str\n",
    "    base: str\n",
    "    pos: str\n",
    "    pos1: str"
   ]
  },
  {
   "cell_type": "code",
   "execution_count": 49,
   "id": "d22f52d7-7acf-476c-9a00-288e98e6eabb",
   "metadata": {},
   "outputs": [
    {
     "data": {
      "text/plain": [
       "[['# S-ID:1 KNP:4.19-CF1.1 DATE:2021/06/05 SCORE:-1.74640',\n",
       "  '* -1D <文頭><文末><体言><用言:判><体言止><レベル:C><区切:5-5><ID:（文末）><裸名詞><提題受:30><主節><状態述語><正規化代表表記:人工/じんこう+知能/ちのう><主辞代表表記:知能/ちのう>',\n",
       "  '+ 1D <文節内><係:文節内><文頭><体言><名詞項候補><先行詞候補><正規化代表表記:人工/じんこう>',\n",
       "  '人工 じんこう 人工 名詞 6 普通名詞 1 * 0 * 0 \"代表表記:人工/じんこう カテゴリ:抽象物\" <代表表記:人工/じんこう><カテゴリ:抽象物><正規化代表表記:人工/じんこう><文頭><漢字><かな漢字><名詞相当語><自立><内容語><タグ単位始><文節始>',\n",
       "  '+ -1D <文末><体言><用言:判><体言止><レベル:C><区切:5-5><ID:（文末）><裸名詞><提題受:30><主節><状態述語><判定詞><名詞項候補><先行詞候補><正規化代表表記:知能/ちのう><用言代表表記:知能/ちのう><Wikipedia上位語:基礎技術><時制-無時制><格解析結果:知能/ちのう:判0:ガ/U/-/-/-/-;トスル/U/-/-/-/-;外の関係/U/-/-/-/->',\n",
       "  '知能 ちのう 知能 名詞 6 普通名詞 1 * 0 * 0 \"代表表記:知能/ちのう カテゴリ:抽象物\" <代表表記:知能/ちのう><カテゴリ:抽象物><正規化代表表記:知能/ちのう><文末><Wikipedia上位語:基礎技術:0-1><表現文末><漢字><かな漢字><名詞相当語><自立><複合←><内容語><タグ単位始><文節主辞>']]"
      ]
     },
     "execution_count": 49,
     "metadata": {},
     "output_type": "execute_result"
    }
   ],
   "source": [
    "# EOSごとに区切った上で、 \\n で区切る\n",
    "sentences = list(map(lambda x: x.split(\"\\n\"), texts.split(\"EOS\")))\n",
    "# 空の要素削除\n",
    "sentences = [[element for element in sentence if element != \"\"] for sentence in sentences]\n",
    "sentences[:1]"
   ]
  },
  {
   "cell_type": "code",
   "execution_count": 61,
   "id": "c4eb2ff0-eff3-4875-8ad3-e64dec002608",
   "metadata": {},
   "outputs": [],
   "source": [
    "# 冒頭の説明文をMorphsにする\n",
    "morphs = []\n",
    "for result in sentences[1]:\n",
    "    if result.startswith((\"#\", \"*\", \"+\")):\n",
    "        continue\n",
    "    else:\n",
    "        elements = result.split()\n",
    "        morph = Morph(surface=elements[0], base=elements[2], pos=elements[3], pos1=elements[5])\n",
    "        morphs.append(morph)"
   ]
  },
  {
   "cell_type": "code",
   "execution_count": 62,
   "id": "97b49df5-3689-4d8c-8bc4-8510d35eba05",
   "metadata": {},
   "outputs": [
    {
     "data": {
      "text/plain": [
       "[Morph(surface='人工', base='人工', pos='名詞', pos1='普通名詞'),\n",
       " Morph(surface='知能', base='知能', pos='名詞', pos1='普通名詞'),\n",
       " Morph(surface='（', base='（', pos='特殊', pos1='括弧始'),\n",
       " Morph(surface='じんこう', base='じんこう', pos='名詞', pos1='普通名詞'),\n",
       " Morph(surface='ちのう', base='ちのう', pos='名詞', pos1='普通名詞'),\n",
       " Morph(surface='、', base='、', pos='特殊', pos1='読点'),\n",
       " Morph(surface='、', base='、', pos='特殊', pos1='読点'),\n",
       " Morph(surface='AI', base='AI', pos='名詞', pos1='組織名'),\n",
       " Morph(surface='〈', base='〈', pos='特殊', pos1='括弧始'),\n",
       " Morph(surface='エーアイ', base='エーアイ', pos='名詞', pos1='組織名'),\n",
       " Morph(surface='〉', base='〉', pos='特殊', pos1='括弧終'),\n",
       " Morph(surface='）', base='）', pos='特殊', pos1='括弧終'),\n",
       " Morph(surface='と', base='と', pos='助詞', pos1='格助詞'),\n",
       " Morph(surface='は', base='は', pos='助詞', pos1='副助詞'),\n",
       " Morph(surface='、', base='、', pos='特殊', pos1='読点'),\n",
       " Morph(surface='「', base='「', pos='特殊', pos1='括弧始'),\n",
       " Morph(surface='『', base='『', pos='特殊', pos1='括弧始'),\n",
       " Morph(surface='計算', base='計算', pos='名詞', pos1='サ変名詞'),\n",
       " Morph(surface='（）', base='（）', pos='名詞', pos1='普通名詞'),\n",
       " Morph(surface='』', base='』', pos='特殊', pos1='括弧終'),\n",
       " Morph(surface='と', base='と', pos='助詞', pos1='格助詞'),\n",
       " Morph(surface='いう', base='いう', pos='動詞', pos1='*'),\n",
       " Morph(surface='概念', base='概念', pos='名詞', pos1='普通名詞'),\n",
       " Morph(surface='と', base='と', pos='助詞', pos1='格助詞'),\n",
       " Morph(surface='『', base='『', pos='特殊', pos1='括弧始'),\n",
       " Morph(surface='コンピュータ', base='コンピュータ', pos='名詞', pos1='普通名詞'),\n",
       " Morph(surface='（）', base='（）', pos='名詞', pos1='普通名詞'),\n",
       " Morph(surface='』', base='』', pos='特殊', pos1='括弧終'),\n",
       " Morph(surface='と', base='と', pos='助詞', pos1='格助詞'),\n",
       " Morph(surface='いう', base='いう', pos='動詞', pos1='*'),\n",
       " Morph(surface='道具', base='道具', pos='名詞', pos1='普通名詞'),\n",
       " Morph(surface='を', base='を', pos='助詞', pos1='格助詞'),\n",
       " Morph(surface='用いて', base='用いる', pos='動詞', pos1='*'),\n",
       " Morph(surface='『', base='『', pos='特殊', pos1='括弧始'),\n",
       " Morph(surface='知能', base='知能', pos='名詞', pos1='普通名詞'),\n",
       " Morph(surface='』', base='』', pos='特殊', pos1='括弧終'),\n",
       " Morph(surface='を', base='を', pos='助詞', pos1='格助詞'),\n",
       " Morph(surface='研究', base='研究', pos='名詞', pos1='サ変名詞'),\n",
       " Morph(surface='する', base='する', pos='動詞', pos1='*'),\n",
       " Morph(surface='計算', base='計算', pos='名詞', pos1='サ変名詞'),\n",
       " Morph(surface='機', base='機', pos='名詞', pos1='普通名詞'),\n",
       " Morph(surface='科学', base='科学', pos='名詞', pos1='普通名詞'),\n",
       " Morph(surface='（）', base='（）', pos='名詞', pos1='普通名詞'),\n",
       " Morph(surface='の', base='の', pos='助詞', pos1='接続助詞'),\n",
       " Morph(surface='一', base='一', pos='名詞', pos1='数詞'),\n",
       " Morph(surface='分野', base='分野', pos='名詞', pos1='普通名詞'),\n",
       " Morph(surface='」', base='」', pos='特殊', pos1='括弧終'),\n",
       " Morph(surface='を', base='を', pos='助詞', pos1='格助詞'),\n",
       " Morph(surface='指す', base='指す', pos='動詞', pos1='*'),\n",
       " Morph(surface='語', base='語', pos='名詞', pos1='普通名詞'),\n",
       " Morph(surface='。', base='。', pos='特殊', pos1='句点'),\n",
       " Morph(surface='「', base='「', pos='特殊', pos1='括弧始'),\n",
       " Morph(surface='言語', base='言語', pos='名詞', pos1='普通名詞'),\n",
       " Morph(surface='の', base='の', pos='助詞', pos1='接続助詞'),\n",
       " Morph(surface='理解', base='理解', pos='名詞', pos1='サ変名詞'),\n",
       " Morph(surface='や', base='や', pos='助詞', pos1='接続助詞'),\n",
       " Morph(surface='推論', base='推論', pos='名詞', pos1='サ変名詞'),\n",
       " Morph(surface='、', base='、', pos='特殊', pos1='読点'),\n",
       " Morph(surface='問題', base='問題', pos='名詞', pos1='普通名詞'),\n",
       " Morph(surface='解決', base='解決', pos='名詞', pos1='サ変名詞'),\n",
       " Morph(surface='など', base='など', pos='助詞', pos1='副助詞'),\n",
       " Morph(surface='の', base='の', pos='助詞', pos1='接続助詞'),\n",
       " Morph(surface='知的', base='知的だ', pos='形容詞', pos1='*'),\n",
       " Morph(surface='行動', base='行動', pos='名詞', pos1='サ変名詞'),\n",
       " Morph(surface='を', base='を', pos='助詞', pos1='格助詞'),\n",
       " Morph(surface='人間', base='人間', pos='名詞', pos1='普通名詞'),\n",
       " Morph(surface='に', base='に', pos='助詞', pos1='格助詞'),\n",
       " Morph(surface='代わって', base='代わる', pos='動詞', pos1='*'),\n",
       " Morph(surface='コンピューター', base='コンピューター', pos='名詞', pos1='普通名詞'),\n",
       " Morph(surface='に', base='に', pos='助詞', pos1='格助詞'),\n",
       " Morph(surface='行わ', base='行う', pos='動詞', pos1='*'),\n",
       " Morph(surface='せる', base='せる', pos='接尾辞', pos1='動詞性接尾辞'),\n",
       " Morph(surface='技術', base='技術', pos='名詞', pos1='普通名詞'),\n",
       " Morph(surface='」', base='」', pos='特殊', pos1='括弧終'),\n",
       " Morph(surface='、', base='、', pos='特殊', pos1='読点'),\n",
       " Morph(surface='または', base='または', pos='接続詞', pos1='*'),\n",
       " Morph(surface='、', base='、', pos='特殊', pos1='読点'),\n",
       " Morph(surface='「', base='「', pos='特殊', pos1='括弧始'),\n",
       " Morph(surface='計算', base='計算', pos='名詞', pos1='サ変名詞'),\n",
       " Morph(surface='機', base='機', pos='名詞', pos1='普通名詞'),\n",
       " Morph(surface='（', base='（', pos='特殊', pos1='括弧始'),\n",
       " Morph(surface='コンピュータ', base='コンピュータ', pos='名詞', pos1='普通名詞'),\n",
       " Morph(surface='）', base='）', pos='特殊', pos1='括弧終'),\n",
       " Morph(surface='に', base='に', pos='助詞', pos1='格助詞'),\n",
       " Morph(surface='よる', base='よる', pos='動詞', pos1='*'),\n",
       " Morph(surface='知的な', base='知的だ', pos='形容詞', pos1='*'),\n",
       " Morph(surface='情報', base='情報', pos='名詞', pos1='普通名詞'),\n",
       " Morph(surface='処理', base='処理', pos='名詞', pos1='サ変名詞'),\n",
       " Morph(surface='システム', base='システム', pos='名詞', pos1='普通名詞'),\n",
       " Morph(surface='の', base='の', pos='助詞', pos1='接続助詞'),\n",
       " Morph(surface='設計', base='設計', pos='名詞', pos1='サ変名詞'),\n",
       " Morph(surface='や', base='や', pos='助詞', pos1='接続助詞'),\n",
       " Morph(surface='実現', base='実現', pos='名詞', pos1='サ変名詞'),\n",
       " Morph(surface='に', base='に', pos='助詞', pos1='格助詞'),\n",
       " Morph(surface='関する', base='関する', pos='動詞', pos1='*'),\n",
       " Morph(surface='研究', base='研究', pos='名詞', pos1='サ変名詞'),\n",
       " Morph(surface='分野', base='分野', pos='名詞', pos1='普通名詞'),\n",
       " Morph(surface='」', base='」', pos='特殊', pos1='括弧終'),\n",
       " Morph(surface='と', base='と', pos='助詞', pos1='格助詞'),\n",
       " Morph(surface='も', base='も', pos='助詞', pos1='副助詞'),\n",
       " Morph(surface='さ', base='する', pos='動詞', pos1='*'),\n",
       " Morph(surface='れる', base='れる', pos='接尾辞', pos1='動詞性接尾辞'),\n",
       " Morph(surface='。', base='。', pos='特殊', pos1='句点')]"
      ]
     },
     "execution_count": 62,
     "metadata": {},
     "output_type": "execute_result"
    }
   ],
   "source": [
    "morphs"
   ]
  }
 ],
 "metadata": {
  "kernelspec": {
   "display_name": "Python 3",
   "language": "python",
   "name": "python3"
  },
  "language_info": {
   "codemirror_mode": {
    "name": "ipython",
    "version": 3
   },
   "file_extension": ".py",
   "mimetype": "text/x-python",
   "name": "python",
   "nbconvert_exporter": "python",
   "pygments_lexer": "ipython3",
   "version": "3.8.5"
  }
 },
 "nbformat": 4,
 "nbformat_minor": 5
}
