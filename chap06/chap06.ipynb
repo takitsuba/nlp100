{
 "cells": [
  {
   "cell_type": "markdown",
   "id": "975c107f-e971-4496-b7f5-1b2d8f50902c",
   "metadata": {},
   "source": [
    "# 50. データの入手・整形"
   ]
  },
  {
   "cell_type": "code",
   "execution_count": 17,
   "id": "de00b524-8c0f-455b-993e-9845135f035c",
   "metadata": {},
   "outputs": [
    {
     "name": "stdout",
     "output_type": "stream",
     "text": [
      "/Users/takizawa/dev/study/nlp100/chap06\n"
     ]
    }
   ],
   "source": [
    "!pwd"
   ]
  },
  {
   "cell_type": "code",
   "execution_count": 22,
   "id": "30702bba-601f-42c1-a0a9-f23508920257",
   "metadata": {},
   "outputs": [],
   "source": [
    "import pandas as pd\n",
    "nad_path = \"/Users/takizawa/dev/study/nlp100/data/NewsAggregatorDataset/newsCorpora.csv\""
   ]
  },
  {
   "cell_type": "code",
   "execution_count": 44,
   "id": "a29b26eb-594c-41d5-a576-392dca4309eb",
   "metadata": {},
   "outputs": [],
   "source": [
    "# FORMAT: ID \\t TITLE \\t URL \\t PUBLISHER \\t CATEGORY \\t STORY \\t HOSTNAME \\t TIMESTAMP\n",
    "# 3つ目のpubsliherを確認すれば良い\n",
    "publisher = [\"Reuters\", \"Huffington Post\", \"Businessweek\", \"Contactmusic.com\", \"Daily Mail\"]\n",
    "use_lines = []\n",
    "with open(nad_path) as f:\n",
    "    for s_line in f:\n",
    "        split = s_line.split(\"\\t\")\n",
    "        if split[3] in publisher:\n",
    "            use_lines.append(s_line)"
   ]
  },
  {
   "cell_type": "code",
   "execution_count": 46,
   "id": "6891049b-9f48-4490-8ede-491631a3a76e",
   "metadata": {},
   "outputs": [
    {
     "data": {
      "text/plain": [
       "13356"
      ]
     },
     "execution_count": 46,
     "metadata": {},
     "output_type": "execute_result"
    }
   ],
   "source": [
    "len(use_lines)"
   ]
  },
  {
   "cell_type": "markdown",
   "id": "0b820690-3c02-4b21-9685-98dd1c92aac1",
   "metadata": {},
   "source": [
    "# 抽出された事例をランダムに並び替える"
   ]
  },
  {
   "cell_type": "code",
   "execution_count": 47,
   "id": "f6961ad2-dfea-4dad-8362-8a50731cbebb",
   "metadata": {},
   "outputs": [],
   "source": [
    "import random\n",
    "random.Random(11).shuffle(use_lines)"
   ]
  },
  {
   "cell_type": "markdown",
   "id": "05492491-b465-4702-92de-78aa226ef05e",
   "metadata": {},
   "source": [
    "# 抽出された事例の80%を学習データ，残りの10%ずつを検証データと評価データに分割"
   ]
  },
  {
   "cell_type": "code",
   "execution_count": 54,
   "id": "52daa59a-2ed9-40e2-96c8-b716c3a22a93",
   "metadata": {},
   "outputs": [],
   "source": [
    "def line_to_cat_and_title(line):\n",
    "    split = line.split(\"\\t\")\n",
    "    # CATEGORY と　TITLE\n",
    "    return split[4]+\"\\t\"+split[1]"
   ]
  },
  {
   "cell_type": "code",
   "execution_count": 50,
   "id": "bc1d1e7c-906f-4a88-825e-b1d7a7131355",
   "metadata": {},
   "outputs": [
    {
     "data": {
      "text/plain": [
       "1335"
      ]
     },
     "execution_count": 50,
     "metadata": {},
     "output_type": "execute_result"
    }
   ],
   "source": [
    "valid_cnt = len(use_lines)//10\n",
    "valid_cnt"
   ]
  },
  {
   "cell_type": "code",
   "execution_count": 59,
   "id": "e8ce90c8-a239-4a54-90c2-30623fc9b934",
   "metadata": {},
   "outputs": [],
   "source": [
    "valid_path = \"/Users/takizawa/dev/study/nlp100/data/NewsAggregatorDataset/\" + \"valid.txt\"\n",
    "with open(valid_path, \"w\") as f:\n",
    "    f.write(\"\\n\".join(list(map(line_to_cat_and_title,use_lines[:valid_cnt]))))"
   ]
  },
  {
   "cell_type": "code",
   "execution_count": 60,
   "id": "9335365c-d50c-4d09-9a7f-55c9de63e4a5",
   "metadata": {},
   "outputs": [],
   "source": [
    "test_path = \"/Users/takizawa/dev/study/nlp100/data/NewsAggregatorDataset/\" + \"test.txt\"\n",
    "with open(test_path, \"w\") as f:\n",
    "    f.write(\"\\n\".join(list(map(line_to_cat_and_title,use_lines[valid_cnt:(valid_cnt*2)]))))"
   ]
  },
  {
   "cell_type": "code",
   "execution_count": 61,
   "id": "1a9116e0-60c6-45b1-96e2-13bc52f7afce",
   "metadata": {},
   "outputs": [],
   "source": [
    "train_path = \"/Users/takizawa/dev/study/nlp100/data/NewsAggregatorDataset/\" + \"train.txt\"\n",
    "with open(train_path, \"w\") as f:\n",
    "    f.write(\"\\n\".join(list(map(line_to_cat_and_title,use_lines[(valid_cnt*2):]))))"
   ]
  },
  {
   "cell_type": "markdown",
   "id": "2e1668f4-2ab4-4a20-9527-cb7d168e0d03",
   "metadata": {},
   "source": [
    "# カテゴリごとの件数"
   ]
  },
  {
   "cell_type": "code",
   "execution_count": 63,
   "id": "69b94806-f183-488b-b790-a40f04059fdf",
   "metadata": {},
   "outputs": [],
   "source": [
    "from collections import Counter\n",
    "def count_category(path):\n",
    "    counter = Counter()\n",
    "    with open(path) as f:\n",
    "        for s_line in f:\n",
    "            split = s_line.split(\"\\t\")\n",
    "            counter[split[0]] += 1\n",
    "    return counter"
   ]
  },
  {
   "cell_type": "code",
   "execution_count": 66,
   "id": "cbeadc36-32fd-4935-aa91-3e4f14f0e02a",
   "metadata": {},
   "outputs": [],
   "source": [
    "counter_train = count_category(train_path)\n",
    "counter_valid = count_category(valid_path)\n",
    "counter_test = count_category(test_path)"
   ]
  },
  {
   "cell_type": "code",
   "execution_count": 70,
   "id": "58b19d9a-e41c-456a-aa38-8b62a8963b88",
   "metadata": {},
   "outputs": [
    {
     "data": {
      "text/plain": [
       "[('b', 4513), ('e', 4231), ('m', 739), ('t', 1203)]"
      ]
     },
     "execution_count": 70,
     "metadata": {},
     "output_type": "execute_result"
    }
   ],
   "source": [
    "sorted(counter_train.items())"
   ]
  },
  {
   "cell_type": "code",
   "execution_count": 71,
   "id": "927894df-b03a-4409-a2a4-b2aa90dfb772",
   "metadata": {},
   "outputs": [
    {
     "data": {
      "text/plain": [
       "[('b', 565), ('e', 524), ('m', 79), ('t', 167)]"
      ]
     },
     "execution_count": 71,
     "metadata": {},
     "output_type": "execute_result"
    }
   ],
   "source": [
    "sorted(counter_valid.items())"
   ]
  },
  {
   "cell_type": "code",
   "execution_count": 72,
   "id": "f8d09403-240a-4f12-b99a-ae4f7660932b",
   "metadata": {},
   "outputs": [
    {
     "data": {
      "text/plain": [
       "[('b', 549), ('e', 539), ('m', 92), ('t', 155)]"
      ]
     },
     "execution_count": 72,
     "metadata": {},
     "output_type": "execute_result"
    }
   ],
   "source": [
    "sorted(counter_test.items())"
   ]
  },
  {
   "cell_type": "code",
   "execution_count": null,
   "id": "7e97613d-fc6b-48a7-9666-8698ff01a4f3",
   "metadata": {},
   "outputs": [],
   "source": []
  }
 ],
 "metadata": {
  "kernelspec": {
   "display_name": "Python 3",
   "language": "python",
   "name": "python3"
  },
  "language_info": {
   "codemirror_mode": {
    "name": "ipython",
    "version": 3
   },
   "file_extension": ".py",
   "mimetype": "text/x-python",
   "name": "python",
   "nbconvert_exporter": "python",
   "pygments_lexer": "ipython3",
   "version": "3.8.5"
  }
 },
 "nbformat": 4,
 "nbformat_minor": 5
}
